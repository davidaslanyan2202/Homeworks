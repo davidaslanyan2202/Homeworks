{
 "cells": [
  {
   "cell_type": "markdown",
   "metadata": {},
   "source": [
    "# Load necessary libraries\n"
   ]
  },
  {
   "cell_type": "code",
   "execution_count": null,
   "metadata": {
    "vscode": {
     "languageId": "r"
    }
   },
   "outputs": [],
   "source": [
    "library(ggplot2)\n",
    "library(dplyr)"
   ]
  },
  {
   "cell_type": "markdown",
   "metadata": {},
   "source": [
    "# Load datasets\n"
   ]
  },
  {
   "cell_type": "code",
   "execution_count": null,
   "metadata": {
    "vscode": {
     "languageId": "r"
    }
   },
   "outputs": [],
   "source": [
    "lung_cancer_df <- read.csv(\"lung_cancer_prediction_dataset.csv\")\n",
    "air_pollution_df <- read.csv(\"global_air_pollution_dataset.csv\")"
   ]
  },
  {
   "cell_type": "markdown",
   "metadata": {},
   "source": [
    "\n",
    "# 1. Boxplot of Lung Cancer Deaths Distribution"
   ]
  },
  {
   "cell_type": "code",
   "execution_count": null,
   "metadata": {
    "vscode": {
     "languageId": "r"
    }
   },
   "outputs": [],
   "source": [
    "ggplot(lung_cancer_df, aes(y = Annual_Lung_Cancer_Deaths)) +\n",
    "  geom_boxplot(fill = \"lightcoral\", color = \"black\") +\n",
    "  labs(title = \"Boxplot of Lung Cancer Deaths Distribution\", \n",
    "       y = \"Annual Lung Cancer Deaths\") +\n",
    "  theme_minimal()"
   ]
  },
  {
   "cell_type": "markdown",
   "metadata": {},
   "source": [
    "\n",
    "# 2. Histogram of PM2.5 AQI Values"
   ]
  },
  {
   "cell_type": "code",
   "execution_count": null,
   "metadata": {
    "vscode": {
     "languageId": "r"
    }
   },
   "outputs": [],
   "source": [
    "ggplot(air_pollution_df, aes(x = PM2.5_AQI_Value)) +\n",
    "  geom_histogram(bins = 30, fill = \"darkblue\", color = \"black\", alpha = 0.7) +\n",
    "  labs(title = \"Histogram of PM2.5 AQI Values\", \n",
    "       x = \"PM2.5 AQI Value\", y = \"Frequency\") +\n",
    "  theme_minimal()"
   ]
  },
  {
   "cell_type": "markdown",
   "metadata": {},
   "source": [
    "\n",
    "# 3. Density Plot of the Lung Cancer Mortality Rate\n",
    "# Convert to numeric and remove zero values to avoid KDE issues"
   ]
  },
  {
   "cell_type": "code",
   "execution_count": null,
   "metadata": {
    "vscode": {
     "languageId": "r"
    }
   },
   "outputs": [],
   "source": [
    "lung_cancer_df$Mortality_Rate <- as.numeric(lung_cancer_df$Mortality_Rate)\n",
    "lung_cancer_filtered <- lung_cancer_df %>% filter(Mortality_Rate > 0)\n",
    "\n",
    "ggplot(lung_cancer_filtered, aes(x = Mortality_Rate)) +\n",
    "  geom_density(fill = \"purple\", alpha = 0.6) +\n",
    "  labs(title = \"Density Plot of Lung Cancer Mortality Rate\", \n",
    "       x = \"Mortality Rate\", y = \"Density\") +\n",
    "  theme_minimal()"
   ]
  },
  {
   "cell_type": "markdown",
   "metadata": {},
   "source": [
    "# 4. Scatter Plot of Normal and Logistic Distributions"
   ]
  },
  {
   "cell_type": "code",
   "execution_count": null,
   "metadata": {
    "vscode": {
     "languageId": "r"
    }
   },
   "outputs": [],
   "source": [
    "set.seed(42)  # For reproducibility\n",
    "normal_values <- rnorm(100, mean = 0, sd = 1)\n",
    "logistic_values <- rlogis(100, location = 0, scale = 1)\n",
    "scatter_data <- data.frame(Normal = normal_values, Logistic = logistic_values)\n",
    "\n",
    "ggplot(scatter_data, aes(x = Normal, y = Logistic)) +\n",
    "  geom_point(color = \"brown\", alpha = 0.7) +\n",
    "  labs(title = \"Scatter Plot of Normal vs. Logistic Distribution\", \n",
    "       x = \"Normal Distribution Values\", y = \"Logistic Distribution Values\") +\n",
    "  theme_solarized(light = FALSE)"
   ]
  }
 ],
 "metadata": {
  "kernelspec": {
   "display_name": "R",
   "language": "R",
   "name": "ir"
  },
  "language_info": {
   "name": "R"
  }
 },
 "nbformat": 4,
 "nbformat_minor": 2
}
